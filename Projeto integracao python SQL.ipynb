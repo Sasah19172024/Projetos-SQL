{
 "cells": [
  {
   "cell_type": "code",
   "execution_count": 1,
   "id": "facfee79",
   "metadata": {},
   "outputs": [
    {
     "name": "stdout",
     "output_type": "stream",
     "text": [
      "Requirement already satisfied: pyodbc in c:\\users\\sarah\\anaconda3\\lib\\site-packages (4.0.32)\n",
      "Note: you may need to restart the kernel to use updated packages.\n"
     ]
    }
   ],
   "source": [
    "pip install pyodbc"
   ]
  },
  {
   "cell_type": "code",
   "execution_count": 4,
   "id": "e562014c",
   "metadata": {},
   "outputs": [
    {
     "name": "stdout",
     "output_type": "stream",
     "text": [
      "conexao bem sucedida\n"
     ]
    }
   ],
   "source": [
    "import pyodbc\n",
    "\n",
    "\n",
    "dados_conexao = (\n",
    "    \"Driver={SQL Server};\"\n",
    "    \"Server=LAPTOP-MC8U137O;\"\n",
    "    \"Database=PythonSQL;\"\n",
    ")\n",
    "\n",
    "conexao = pyodbc.connect(dados_conexao)\n",
    "print('conexao bem sucedida')"
   ]
  },
  {
   "cell_type": "code",
   "execution_count": 11,
   "id": "c062e433",
   "metadata": {},
   "outputs": [],
   "source": [
    "cursor = conexao.cursor()\n",
    "id = 5\n",
    "data = '17/06/2022'\n",
    "cliente = 'Erica'\n",
    "produto = 'Celular'\n",
    "preco = 1500\n",
    "quantidade = 1\n",
    "\n",
    "comando = f\"\"\"INSERT INTO Vendas(id_venda, data_venda,cliente,produto,preco,quantidade)\n",
    "VALUES\n",
    "\t({id}, '{data}', '{cliente}', '{produto}', {preco}, {quantidade})\"\"\"\n",
    "\n",
    "cursor.execute(comando)\n",
    "\n",
    "cursor.commit()"
   ]
  },
  {
   "cell_type": "code",
   "execution_count": null,
   "id": "ff73d81d",
   "metadata": {},
   "outputs": [],
   "source": []
  }
 ],
 "metadata": {
  "kernelspec": {
   "display_name": "Python 3 (ipykernel)",
   "language": "python",
   "name": "python3"
  },
  "language_info": {
   "codemirror_mode": {
    "name": "ipython",
    "version": 3
   },
   "file_extension": ".py",
   "mimetype": "text/x-python",
   "name": "python",
   "nbconvert_exporter": "python",
   "pygments_lexer": "ipython3",
   "version": "3.9.12"
  }
 },
 "nbformat": 4,
 "nbformat_minor": 5
}
